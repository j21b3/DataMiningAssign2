{
 "cells": [
  {
   "cell_type": "code",
   "execution_count": 1,
   "metadata": {
    "collapsed": true
   },
   "outputs": [],
   "source": [
    "import pandas as pd\n",
    "import numpy as np\n",
    "import matplotlib.pyplot as plt\n",
    "from matplotlib import rcParams\n",
    "\n",
    "rcParams['figure.figsize'] = (25, 20)\n",
    "\n",
    "def readData(filePath: str = \"\"):\n",
    "    df = pd.read_csv(filePath)\n",
    "    return df"
   ]
  },
  {
   "cell_type": "code",
   "execution_count": 2,
   "outputs": [
    {
     "name": "stdout",
     "output_type": "stream",
     "text": [
      "0     244\n",
      "15     46\n",
      "6      30\n",
      "2      23\n",
      "4      17\n",
      "     ... \n",
      "23      1\n",
      "42      1\n",
      "43      1\n",
      "44      1\n",
      "61      1\n",
      "Name: site, Length: 62, dtype: int64\n",
      "<class 'pandas.core.frame.DataFrame'>\n",
      "RangeIndex: 500 entries, 0 to 499\n",
      "Data columns (total 22 columns):\n",
      " #   Column            Non-Null Count  Dtype \n",
      "---  ------            --------------  ----- \n",
      " 0   Label             500 non-null    object\n",
      " 1   totalWordsCount   500 non-null    int64 \n",
      " 2   JJS               500 non-null    int64 \n",
      " 3   NN                500 non-null    int64 \n",
      " 4   NNS               500 non-null    int64 \n",
      " 5   PDT               500 non-null    int64 \n",
      " 6   RB                500 non-null    int64 \n",
      " 7   RBR               500 non-null    int64 \n",
      " 8   RP                500 non-null    int64 \n",
      " 9   TOs               500 non-null    int64 \n",
      " 10  WP                500 non-null    int64 \n",
      " 11  questionmarks     500 non-null    int64 \n",
      " 12  exclamationmarks  500 non-null    int64 \n",
      " 13  semicolon         500 non-null    int64 \n",
      " 14  colon             500 non-null    int64 \n",
      " 15  ellipsis          500 non-null    int64 \n",
      " 16  pronouns1st       500 non-null    int64 \n",
      " 17  pronouns2nd       500 non-null    int64 \n",
      " 18  sentence1st       500 non-null    int64 \n",
      " 19  sentencelast      500 non-null    int64 \n",
      " 20  txtcomplexity     500 non-null    int64 \n",
      " 21  site              500 non-null    int64 \n",
      "dtypes: int64(21), object(1)\n",
      "memory usage: 86.1+ KB\n"
     ]
    }
   ],
   "source": [
    "traindata = readData(\"./MyData_New/train.csv\")\n",
    "traindata = traindata.drop(columns='Unnamed: 0')\n",
    "\n",
    "siteDic = {}\n",
    "\n",
    "for i in traindata.site.values:\n",
    "    if isinstance(i,str):\n",
    "        if i not in siteDic:\n",
    "            siteDic[i]=len(siteDic)\n",
    "            traindata.site.replace(i,siteDic[i],inplace=True)\n",
    "    else:\n",
    "        continue\n",
    "print(traindata['site'].value_counts())\n",
    "traindata.info()\n",
    "\n",
    "xcolumn = ['totalWordsCount','JJS','NN','NNS','PDT','RB','RBR','RP',\n",
    "           'TOs','WP','questionmarks','exclamationmarks','semicolon',\n",
    "           'colon','ellipsis','pronouns1st','pronouns2nd','sentence1st',\n",
    "           'sentencelast','txtcomplexity','site']\n",
    "trainX = traindata[xcolumn].values\n",
    "trainY = traindata['Label'].values"
   ],
   "metadata": {
    "collapsed": false,
    "pycharm": {
     "name": "#%%\n"
    }
   }
  },
  {
   "cell_type": "code",
   "execution_count": 3,
   "outputs": [],
   "source": [
    "\n",
    "\n",
    "testset = readData(\"./MyData_New/test.csv\")\n",
    "testset = testset.drop(columns='Unnamed: 0')\n",
    "for i in testset.site.values:\n",
    "    if isinstance(i,str):\n",
    "        if i not in siteDic:\n",
    "            siteDic[i] = len(siteDic)\n",
    "        testset.site.replace(i,siteDic[i],inplace=True)\n",
    "    else:\n",
    "        continue\n",
    "testY = testset.Label.values\n",
    "testX = testset[xcolumn].values"
   ],
   "metadata": {
    "collapsed": false,
    "pycharm": {
     "name": "#%%\n"
    }
   }
  },
  {
   "cell_type": "code",
   "execution_count": 18,
   "outputs": [
    {
     "name": "stdout",
     "output_type": "stream",
     "text": [
      "Accuracy of the model is 82.6000%\n"
     ]
    }
   ],
   "source": [
    "from sklearn import svm\n",
    "from sklearn.metrics import accuracy_score\n",
    "\n",
    "clf = svm.SVC(C=0.8,kernel='linear',\n",
    "             decision_function_shape='ovr')\n",
    "# clf = svm.SVC(C=0.8, kernel='rbf', gamma=20,\n",
    "#               decision_function_shape='ovr')\n",
    "clf.fit(trainX,trainY.ravel())\n",
    "\n",
    "pred = clf.predict(testX)\n",
    "acc = accuracy_score(testY,pred)\n",
    "print('Accuracy of the model is {:.4%}'.format(acc))"
   ],
   "metadata": {
    "collapsed": false,
    "pycharm": {
     "name": "#%%\n"
    }
   }
  }
 ],
 "metadata": {
  "kernelspec": {
   "display_name": "Python 3",
   "language": "python",
   "name": "python3"
  },
  "language_info": {
   "codemirror_mode": {
    "name": "ipython",
    "version": 2
   },
   "file_extension": ".py",
   "mimetype": "text/x-python",
   "name": "python",
   "nbconvert_exporter": "python",
   "pygments_lexer": "ipython2",
   "version": "2.7.6"
  }
 },
 "nbformat": 4,
 "nbformat_minor": 0
}